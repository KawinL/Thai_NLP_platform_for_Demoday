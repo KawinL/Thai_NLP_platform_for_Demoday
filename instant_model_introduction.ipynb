{
 "cells": [
  {
   "cell_type": "code",
   "execution_count": 1,
   "metadata": {},
   "outputs": [
    {
     "name": "stderr",
     "output_type": "stream",
     "text": [
      "C:\\Users\\liaok\\Anaconda3\\lib\\site-packages\\gensim\\utils.py:1197: UserWarning: detected Windows; aliasing chunkize to chunkize_serial\n",
      "  warnings.warn(\"detected Windows; aliasing chunkize to chunkize_serial\")\n",
      "C:\\Users\\liaok\\Anaconda3\\lib\\site-packages\\h5py\\__init__.py:36: FutureWarning: Conversion of the second argument of issubdtype from `float` to `np.floating` is deprecated. In future, it will be treated as `np.float64 == np.dtype(float).type`.\n",
      "  from ._conv import register_converters as _register_converters\n",
      "Using TensorFlow backend.\n"
     ]
    },
    {
     "name": "stdout",
     "output_type": "stream",
     "text": [
      "_________________________________________________________________\n",
      "Layer (type)                 Output Shape              Param #   \n",
      "=================================================================\n",
      "embedding_1 (Embedding)      (None, 60, 5)             380       \n",
      "_________________________________________________________________\n",
      "bidirectional_1 (Bidirection (None, 60, 512)           536576    \n",
      "_________________________________________________________________\n",
      "dropout_1 (Dropout)          (None, 60, 512)           0         \n",
      "_________________________________________________________________\n",
      "bidirectional_2 (Bidirection (None, 60, 512)           1574912   \n",
      "_________________________________________________________________\n",
      "dropout_2 (Dropout)          (None, 60, 512)           0         \n",
      "_________________________________________________________________\n",
      "bidirectional_3 (Bidirection (None, 60, 256)           656384    \n",
      "_________________________________________________________________\n",
      "dropout_3 (Dropout)          (None, 60, 256)           0         \n",
      "_________________________________________________________________\n",
      "time_distributed_1 (TimeDist (None, 60, 36)            9252      \n",
      "=================================================================\n",
      "Total params: 2,777,504\n",
      "Trainable params: 2,777,504\n",
      "Non-trainable params: 0\n",
      "_________________________________________________________________\n",
      "__________________________________________________________________________________________________\n",
      "Layer (type)                    Output Shape         Param #     Connected to                     \n",
      "==================================================================================================\n",
      "input_1 (InputLayer)            (None, 200)          0                                            \n",
      "__________________________________________________________________________________________________\n",
      "embedding_2 (Embedding)         (None, 200, 300)     47549700    input_1[0][0]                    \n",
      "__________________________________________________________________________________________________\n",
      "conv1d_1 (Conv1D)               (None, 199, 32)      19232       embedding_2[0][0]                \n",
      "__________________________________________________________________________________________________\n",
      "conv1d_2 (Conv1D)               (None, 197, 32)      38432       embedding_2[0][0]                \n",
      "__________________________________________________________________________________________________\n",
      "conv1d_3 (Conv1D)               (None, 193, 32)      76832       embedding_2[0][0]                \n",
      "__________________________________________________________________________________________________\n",
      "dynamic_k_max_pooling_1 (Dynami (None, 3200)         0           conv1d_1[0][0]                   \n",
      "__________________________________________________________________________________________________\n",
      "dynamic_k_max_pooling_2 (Dynami (None, 3200)         0           conv1d_2[0][0]                   \n",
      "__________________________________________________________________________________________________\n",
      "dynamic_k_max_pooling_3 (Dynami (None, 3200)         0           conv1d_3[0][0]                   \n",
      "__________________________________________________________________________________________________\n",
      "reshape_1 (Reshape)             (None, 100, 32)      0           dynamic_k_max_pooling_1[0][0]    \n",
      "__________________________________________________________________________________________________\n",
      "reshape_2 (Reshape)             (None, 100, 32)      0           dynamic_k_max_pooling_2[0][0]    \n",
      "__________________________________________________________________________________________________\n",
      "reshape_3 (Reshape)             (None, 100, 32)      0           dynamic_k_max_pooling_3[0][0]    \n",
      "__________________________________________________________________________________________________\n",
      "conv1d_4 (Conv1D)               (None, 99, 32)       2080        reshape_1[0][0]                  \n",
      "__________________________________________________________________________________________________\n",
      "conv1d_5 (Conv1D)               (None, 97, 32)       4128        reshape_2[0][0]                  \n",
      "__________________________________________________________________________________________________\n",
      "conv1d_6 (Conv1D)               (None, 93, 32)       8224        reshape_3[0][0]                  \n",
      "__________________________________________________________________________________________________\n",
      "k_max_pooling_1 (KMaxPooling)   (None, 64)           0           conv1d_4[0][0]                   \n",
      "__________________________________________________________________________________________________\n",
      "k_max_pooling_2 (KMaxPooling)   (None, 64)           0           conv1d_5[0][0]                   \n",
      "__________________________________________________________________________________________________\n",
      "k_max_pooling_3 (KMaxPooling)   (None, 64)           0           conv1d_6[0][0]                   \n",
      "__________________________________________________________________________________________________\n",
      "concatenate_1 (Concatenate)     (None, 192)          0           k_max_pooling_1[0][0]            \n",
      "                                                                 k_max_pooling_2[0][0]            \n",
      "                                                                 k_max_pooling_3[0][0]            \n",
      "__________________________________________________________________________________________________\n",
      "dropout_4 (Dropout)             (None, 192)          0           concatenate_1[0][0]              \n",
      "__________________________________________________________________________________________________\n",
      "flatten_1 (Flatten)             (None, 192)          0           dropout_4[0][0]                  \n",
      "__________________________________________________________________________________________________\n",
      "dense_2 (Dense)                 (None, 64)           12352       flatten_1[0][0]                  \n",
      "__________________________________________________________________________________________________\n",
      "batch_normalization_1 (BatchNor (None, 64)           256         dense_2[0][0]                    \n",
      "__________________________________________________________________________________________________\n",
      "dense_3 (Dense)                 (None, 38)           2470        batch_normalization_1[0][0]      \n",
      "==================================================================================================\n",
      "Total params: 47,713,706\n",
      "Trainable params: 47,713,578\n",
      "Non-trainable params: 128\n",
      "__________________________________________________________________________________________________\n"
     ]
    },
    {
     "ename": "FileNotFoundError",
     "evalue": "[Errno 2] No such file or directory: './bailarn/categorization/catetorization_word_index.json'",
     "output_type": "error",
     "traceback": [
      "\u001b[1;31m---------------------------------------------------------------------------\u001b[0m",
      "\u001b[1;31mFileNotFoundError\u001b[0m                         Traceback (most recent call last)",
      "\u001b[1;32m<ipython-input-1-58779a2aee7a>\u001b[0m in \u001b[0;36m<module>\u001b[1;34m()\u001b[0m\n\u001b[0;32m      1\u001b[0m \u001b[0mget_ipython\u001b[0m\u001b[1;33m(\u001b[0m\u001b[1;33m)\u001b[0m\u001b[1;33m.\u001b[0m\u001b[0mmagic\u001b[0m\u001b[1;33m(\u001b[0m\u001b[1;34m'load_ext autoreload'\u001b[0m\u001b[1;33m)\u001b[0m\u001b[1;33m\u001b[0m\u001b[0m\n\u001b[0;32m      2\u001b[0m \u001b[0mget_ipython\u001b[0m\u001b[1;33m(\u001b[0m\u001b[1;33m)\u001b[0m\u001b[1;33m.\u001b[0m\u001b[0mmagic\u001b[0m\u001b[1;33m(\u001b[0m\u001b[1;34m'autoreload 2'\u001b[0m\u001b[1;33m)\u001b[0m\u001b[1;33m\u001b[0m\u001b[0m\n\u001b[1;32m----> 3\u001b[1;33m \u001b[1;32mfrom\u001b[0m \u001b[0mbailarn\u001b[0m\u001b[1;33m.\u001b[0m\u001b[0minstant_model\u001b[0m \u001b[1;32mimport\u001b[0m \u001b[0minstant_model\u001b[0m\u001b[1;33m\u001b[0m\u001b[0m\n\u001b[0m",
      "\u001b[1;32m~\\Documents\\Thai_NLP_platform\\bailarn\\instant_model\\instant_model.py\u001b[0m in \u001b[0;36m<module>\u001b[1;34m()\u001b[0m\n\u001b[0;32m     36\u001b[0m \u001b[0mcategorization_model\u001b[0m \u001b[1;33m=\u001b[0m \u001b[0mCategorization\u001b[0m\u001b[1;33m(\u001b[0m\u001b[1;33m)\u001b[0m\u001b[1;33m\u001b[0m\u001b[0m\n\u001b[0;32m     37\u001b[0m categorization_word_index = json.load(\n\u001b[1;32m---> 38\u001b[1;33m     open('./bailarn/categorization/catetorization_word_index.json'))\n\u001b[0m\u001b[0;32m     39\u001b[0m categorization_tag_index = utils.build_tag_index(\n\u001b[0;32m     40\u001b[0m     categorization_constant.TAG_LIST, categorization_constant.TAG_START_INDEX)\n",
      "\u001b[1;31mFileNotFoundError\u001b[0m: [Errno 2] No such file or directory: './bailarn/categorization/catetorization_word_index.json'"
     ]
    }
   ],
   "source": [
    "%load_ext autoreload\n",
    "%autoreload 2\n",
    "from bailarn.instant_model import instant_model"
   ]
  },
  {
   "cell_type": "code",
   "execution_count": 4,
   "metadata": {},
   "outputs": [
    {
     "data": {
      "text/plain": [
       "['ฉัน', 'กิน', 'ข้าว']"
      ]
     },
     "execution_count": 4,
     "metadata": {},
     "output_type": "execute_result"
    }
   ],
   "source": [
    "instant_model.tokenize(\"ฉันกินข้าว\")"
   ]
  },
  {
   "cell_type": "code",
   "execution_count": 5,
   "metadata": {},
   "outputs": [
    {
     "name": "stdout",
     "output_type": "stream",
     "text": [
      "Start building input...\n",
      "Start generating x...\n"
     ]
    },
    {
     "name": "stderr",
     "output_type": "stream",
     "text": [
      "100%|██████████| 1/1 [00:00<00:00, 1726.76it/s]\n"
     ]
    },
    {
     "name": "stdout",
     "output_type": "stream",
     "text": [
      "make prediction 1\n",
      "decode (1, 60)\n"
     ]
    },
    {
     "data": {
      "text/plain": [
       "array(['PPER', 'VV', 'NN'], dtype='<U5')"
      ]
     },
     "execution_count": 5,
     "metadata": {},
     "output_type": "execute_result"
    }
   ],
   "source": [
    "instant_model.pos_tag(\"ฉันกินข้าว\")"
   ]
  },
  {
   "cell_type": "code",
   "execution_count": 6,
   "metadata": {},
   "outputs": [
    {
     "name": "stdout",
     "output_type": "stream",
     "text": [
      "Start building input...\n",
      "Start generating x...\n"
     ]
    },
    {
     "name": "stderr",
     "output_type": "stream",
     "text": [
      "100%|██████████| 1/1 [00:00<00:00, 1904.77it/s]\n"
     ]
    },
    {
     "data": {
      "text/plain": [
       "array(['O', 'O', 'O'], dtype='<U1')"
      ]
     },
     "execution_count": 6,
     "metadata": {},
     "output_type": "execute_result"
    }
   ],
   "source": [
    "instant_model.ner(\"ฉันกินข้าว\")"
   ]
  },
  {
   "cell_type": "code",
   "execution_count": 7,
   "metadata": {},
   "outputs": [
    {
     "name": "stdout",
     "output_type": "stream",
     "text": [
      "Start building input...\n",
      "Start generating x...\n"
     ]
    },
    {
     "name": "stderr",
     "output_type": "stream",
     "text": [
      "100%|██████████| 1/1 [00:00<00:00, 1448.81it/s]\n"
     ]
    },
    {
     "data": {
      "text/plain": [
       "'POS'"
      ]
     },
     "execution_count": 7,
     "metadata": {},
     "output_type": "execute_result"
    }
   ],
   "source": [
    "instant_model.sentiment(\"ฉันกินข้าว\")[0]"
   ]
  },
  {
   "cell_type": "code",
   "execution_count": 8,
   "metadata": {},
   "outputs": [
    {
     "name": "stdout",
     "output_type": "stream",
     "text": [
      "Start building input...\n",
      "Start generating x...\n"
     ]
    },
    {
     "name": "stderr",
     "output_type": "stream",
     "text": [
      "100%|██████████| 1/1 [00:00<00:00, 319.69it/s]\n"
     ]
    },
    {
     "name": "stdout",
     "output_type": "stream",
     "text": [
      "Start predicting data...\n"
     ]
    },
    {
     "data": {
      "text/plain": [
       "['Mobile Operator',\n",
       " 'AIS',\n",
       " 'โทรศัพท์มือถือ',\n",
       " 'แท็บเล็ต',\n",
       " 'Mobile OS',\n",
       " 'ร้องทุกข์',\n",
       " 'Gadget',\n",
       " '3G',\n",
       " 'บริษัทไอที',\n",
       " 'สมาร์ทโฟน',\n",
       " 'dtac',\n",
       " 'Samsung',\n",
       " '4G',\n",
       " 'OPPO Smartphone',\n",
       " 'Social Network',\n",
       " 'Huawei Smartphone',\n",
       " 'vivo Smartphone',\n",
       " 'iPhone',\n",
       " 'คอมพิวเตอร์',\n",
       " 'Xiaomi Smartphone',\n",
       " 'ย้ายค่ายเบอร์เดิม',\n",
       " 'โทรศัพท์',\n",
       " 'Mobile Application',\n",
       " 'LG Smartphone',\n",
       " 'truemove',\n",
       " 'My By CAT']"
      ]
     },
     "execution_count": 8,
     "metadata": {},
     "output_type": "execute_result"
    }
   ],
   "source": [
    "instant_model.categorzation(\"ฉันกินข้าว\")[0]"
   ]
  },
  {
   "cell_type": "code",
   "execution_count": 9,
   "metadata": {},
   "outputs": [
    {
     "name": "stderr",
     "output_type": "stream",
     "text": [
      "INFO : precomputing L2-norms of word weight vectors\n"
     ]
    },
    {
     "data": {
      "text/plain": [
       "[('iphone', 0.7972946763038635),\n",
       " ('6', 0.7576655149459839),\n",
       " ('แอนดรอย', 0.7489653825759888),\n",
       " ('โทรศัพท์', 0.7486546635627747),\n",
       " ('ios', 0.7471609115600586),\n",
       " ('6s', 0.744852602481842),\n",
       " ('รู้สึก', 0.7426965236663818),\n",
       " ('5s', 0.7402455806732178),\n",
       " ('ตก', 0.7397241592407227),\n",
       " ('ชอบ', 0.7394053339958191)]"
      ]
     },
     "execution_count": 9,
     "metadata": {},
     "output_type": "execute_result"
    }
   ],
   "source": [
    "instant_model.keyword_expansion(\"ไอโฟน\")"
   ]
  },
  {
   "cell_type": "code",
   "execution_count": 10,
   "metadata": {},
   "outputs": [
    {
     "data": {
      "text/plain": [
       "(300,)"
      ]
     },
     "execution_count": 10,
     "metadata": {},
     "output_type": "execute_result"
    }
   ],
   "source": [
    "instant_model.word_embedding(\"ไอโฟน\").shape"
   ]
  }
 ],
 "metadata": {
  "kernelspec": {
   "display_name": "Python 3",
   "language": "python",
   "name": "python3"
  },
  "language_info": {
   "codemirror_mode": {
    "name": "ipython",
    "version": 3
   },
   "file_extension": ".py",
   "mimetype": "text/x-python",
   "name": "python",
   "nbconvert_exporter": "python",
   "pygments_lexer": "ipython3",
   "version": "3.6.3"
  }
 },
 "nbformat": 4,
 "nbformat_minor": 2
}
