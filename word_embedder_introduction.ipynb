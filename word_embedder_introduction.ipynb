{
 "cells": [
  {
   "cell_type": "code",
   "execution_count": null,
   "metadata": {},
   "outputs": [],
   "source": [
    "%load_ext autoreload\n",
    "%autoreload 2\n",
    "\n",
    "from bailarn.utils import utils"
   ]
  },
  {
   "cell_type": "markdown",
   "metadata": {},
   "source": [
    "# Build input"
   ]
  },
  {
   "cell_type": "code",
   "execution_count": null,
   "metadata": {},
   "outputs": [],
   "source": [
    "sentences = []"
   ]
  },
  {
   "cell_type": "code",
   "execution_count": null,
   "metadata": {},
   "outputs": [],
   "source": [
    "texts = utils.TextCollection(\"./data/BEST_mock/\", tokenize_function=None)\n",
    "for corpus_idx in range(texts.count):\n",
    "    sentences.append([token[0] for token in texts.get_token_list(corpus_idx)])"
   ]
  },
  {
   "cell_type": "markdown",
   "metadata": {},
   "source": [
    "# Default model"
   ]
  },
  {
   "cell_type": "code",
   "execution_count": null,
   "metadata": {},
   "outputs": [],
   "source": [
    "from bailarn.word_embedder.word2vec import Word2Vec\n",
    "w2v_model = Word2Vec()"
   ]
  },
  {
   "cell_type": "code",
   "execution_count": null,
   "metadata": {},
   "outputs": [],
   "source": [
    "# len vocab\n",
    "len(w2v_model.model.wv.vocab)"
   ]
  },
  {
   "cell_type": "code",
   "execution_count": null,
   "metadata": {},
   "outputs": [],
   "source": [
    "w2v_model.predict(\"กิน\").shape"
   ]
  },
  {
   "cell_type": "code",
   "execution_count": null,
   "metadata": {},
   "outputs": [],
   "source": [
    "evaluate_pair = [(\"กิน\", \"รับประทาน\"), (\"นอน\", \"กิน\")]\n",
    "w2v_model.evaluate(evaluate_pair)"
   ]
  },
  {
   "cell_type": "markdown",
   "metadata": {},
   "source": [
    "# Train new model"
   ]
  },
  {
   "cell_type": "code",
   "execution_count": null,
   "metadata": {},
   "outputs": [],
   "source": [
    "new_w2v_model = Word2Vec(new_model=True)"
   ]
  },
  {
   "cell_type": "markdown",
   "metadata": {},
   "source": [
    "## - Train model first time"
   ]
  },
  {
   "cell_type": "code",
   "execution_count": null,
   "metadata": {},
   "outputs": [],
   "source": [
    "new_w2v_model.train(sentences[:1])"
   ]
  },
  {
   "cell_type": "code",
   "execution_count": null,
   "metadata": {},
   "outputs": [],
   "source": [
    "len(new_w2v_model.model.wv.vocab)"
   ]
  },
  {
   "cell_type": "markdown",
   "metadata": {},
   "source": [
    "## - Train model again"
   ]
  },
  {
   "cell_type": "code",
   "execution_count": null,
   "metadata": {
    "scrolled": true
   },
   "outputs": [],
   "source": [
    "new_w2v_model.train(sentences[1:])"
   ]
  },
  {
   "cell_type": "code",
   "execution_count": null,
   "metadata": {},
   "outputs": [],
   "source": [
    "len(new_w2v_model.model.wv.vocab)"
   ]
  },
  {
   "cell_type": "code",
   "execution_count": null,
   "metadata": {},
   "outputs": [],
   "source": [
    "new_w2v_model.predict(\"กิน\").shape"
   ]
  },
  {
   "cell_type": "code",
   "execution_count": null,
   "metadata": {},
   "outputs": [],
   "source": [
    "evaluate_pair = [(\"กิน\", \"รับประทาน\"), (\"นอน\", \"หลับ\")]\n",
    "new_w2v_model.evaluate(evaluate_pair)"
   ]
  },
  {
   "cell_type": "code",
   "execution_count": null,
   "metadata": {},
   "outputs": [],
   "source": [
    "new_w2v_model.save(filepath=\"./bailarn/word_embedder/models/mock_1.bin\")"
   ]
  },
  {
   "cell_type": "markdown",
   "metadata": {},
   "source": [
    "# Load trained model"
   ]
  },
  {
   "cell_type": "code",
   "execution_count": null,
   "metadata": {},
   "outputs": [],
   "source": [
    "loaded_w2v_model = Word2Vec(model_path=\"./bailarn/word_embedder/models/mock_1.bin\")"
   ]
  },
  {
   "cell_type": "code",
   "execution_count": null,
   "metadata": {},
   "outputs": [],
   "source": [
    "# len vocab\n",
    "len(loaded_w2v_model.model.wv.vocab)"
   ]
  },
  {
   "cell_type": "code",
   "execution_count": null,
   "metadata": {},
   "outputs": [],
   "source": [
    "loaded_w2v_model.predict(\"UNK\").shape"
   ]
  },
  {
   "cell_type": "code",
   "execution_count": null,
   "metadata": {},
   "outputs": [],
   "source": [
    "evaluate_pair = [(\"กิน\", \"รับประทาน\"), (\"นอน\", \"กิน\")]\n",
    "loaded_w2v_model.evaluate(evaluate_pair)"
   ]
  },
  {
   "cell_type": "markdown",
   "metadata": {},
   "source": [
    "# Load other datasets"
   ]
  },
  {
   "cell_type": "code",
   "execution_count": null,
   "metadata": {},
   "outputs": [],
   "source": [
    "# texts = utils.TextCollection(\"./data/BEST2010/Train\", tokenize_function=None)\n",
    "# for corpus_idx in range(texts.count):\n",
    "#     sentences.append([token[0] for token in texts.get_token_list(corpus_idx)])"
   ]
  },
  {
   "cell_type": "code",
   "execution_count": null,
   "metadata": {},
   "outputs": [],
   "source": [
    "# texts = utils.TextCollection(\"./data/BEST_data/article\",\n",
    "#                              tag_delimiter=None,\n",
    "#                              word_delimiter=\"|\",\n",
    "#                              tokenize_function=None)\n",
    "# for corpus_idx in range(texts.count):\n",
    "#     sentences.append(texts.get_token_list(corpus_idx))"
   ]
  },
  {
   "cell_type": "code",
   "execution_count": null,
   "metadata": {},
   "outputs": [],
   "source": [
    "# texts = utils.TextCollection(\"./data/BEST_data/encyclopedia\",\n",
    "#                              tag_delimiter=None,\n",
    "#                              word_delimiter=\"|\",\n",
    "#                              tokenize_function=None)\n",
    "# for corpus_idx in range(texts.count):\n",
    "#     sentences.append(texts.get_token_list(corpus_idx))"
   ]
  },
  {
   "cell_type": "code",
   "execution_count": null,
   "metadata": {},
   "outputs": [],
   "source": [
    "# texts = utils.TextCollection(\"./data/BEST_data/news\",\n",
    "#                              tag_delimiter=None,\n",
    "#                              word_delimiter=\"|\",\n",
    "#                              tokenize_function=None)\n",
    "# for corpus_idx in range(texts.count):\n",
    "#     sentences.append(texts.get_token_list(corpus_idx))"
   ]
  },
  {
   "cell_type": "code",
   "execution_count": null,
   "metadata": {},
   "outputs": [],
   "source": [
    "# texts = utils.TextCollection(\"./data/BEST_data/novel\",\n",
    "#                              tag_delimiter=None,\n",
    "#                              word_delimiter=\"|\",\n",
    "#                              tokenize_function=None)\n",
    "# for corpus_idx in range(texts.count):\n",
    "#     sentences.append(texts.get_token_list(corpus_idx))"
   ]
  },
  {
   "cell_type": "code",
   "execution_count": null,
   "metadata": {},
   "outputs": [],
   "source": [
    "# texts = utils.TextCollection(\"./data/thwiki\",\n",
    "#                              tag_delimiter=None,\n",
    "#                              word_delimiter=\"|\",\n",
    "#                              tokenize_function=None)\n",
    "# for corpus_idx in range(texts.count):\n",
    "#     sentences.append(texts.get_token_list(corpus_idx))"
   ]
  }
 ],
 "metadata": {
  "kernelspec": {
   "display_name": "Python 3",
   "language": "python",
   "name": "python3"
  },
  "language_info": {
   "codemirror_mode": {
    "name": "ipython",
    "version": 3
   },
   "file_extension": ".py",
   "mimetype": "text/x-python",
   "name": "python",
   "nbconvert_exporter": "python",
   "pygments_lexer": "ipython3",
   "version": "3.5.0"
  }
 },
 "nbformat": 4,
 "nbformat_minor": 2
}
